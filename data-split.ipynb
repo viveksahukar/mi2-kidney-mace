{
 "cells": [
  {
   "cell_type": "markdown",
   "metadata": {},
   "source": [
    "# Create the train-val-test split"
   ]
  },
  {
   "cell_type": "code",
   "execution_count": 1,
   "metadata": {},
   "outputs": [],
   "source": [
    "from imports import *"
   ]
  },
  {
   "cell_type": "markdown",
   "metadata": {},
   "source": [
    "## Tabular data & ECG preprocessing"
   ]
  },
  {
   "cell_type": "code",
   "execution_count": 2,
   "metadata": {},
   "outputs": [
    {
     "name": "stdout",
     "output_type": "stream",
     "text": [
      "4649 4516\n",
      "patient data read:\t 2821 2821\n",
      "1500\n",
      "2000\n",
      "2500\n",
      "3000\n",
      "3500\n",
      "4000\n"
     ]
    }
   ],
   "source": [
    "# UNOS\n",
    "df_org = pd.read_excel('./datasets/UNOSkidney_part1_updated_death_date2_anonym.xlsx')\n",
    "print(len(df_org), len(df_org.MRN_DEID.unique()))\n",
    "\n",
    "# required filtering\n",
    "df_sel = df_org.iloc[1232:-1]\n",
    "df_sel = df_sel.dropna(subset=['MRN_DEID'])\n",
    "\n",
    "df_sel['transplantDate_DEID'] = pd.to_datetime(df_sel['Transplant Date_DEID']).dt.date\n",
    "df_sel = df_sel.loc[df_sel['transplantDate_DEID']<=datetime.date(2020, 6, 30)]\n",
    "df_sel = df_sel.sort_values(by='transplantDate_DEID')\n",
    "df_sel = df_sel.drop_duplicates(subset=['MRN_DEID'], keep='first')\n",
    "print('patient data read:\\t', len(df_sel), len(df_sel.MRN_DEID.unique()))\n",
    "\n",
    "df_sel = df_sel.fillna('UNKNOWN')\n",
    "df_sel['Number of Previous Transplants'] = df_sel['Number of Previous Transplants'].replace({'UNKNOWN': -1})\n",
    "df_sel['HLA Mismatch Level'] = df_sel['HLA Mismatch Level'].replace({'UNKNOWN': -1})\n",
    "df_sel['CMV IgG'] = df_sel['CMV IgG'].replace({'Not Done': 'UNKNOWN'})\n",
    "df_sel['Diabetes at Listing'] = df_sel['Diabetes at Listing'].replace({'Type II': 'Yes', 'Type I':'Yes', 'Type Other':'Yes', 'Type Unknown':'Yes'})\n",
    "df_sel['HBV Surface Antibody Total'] = df_sel['HBV Surface Antibody Total'].replace({'Unknown': 'UNKNOWN'})\n",
    "df_sel['HCV Serostatus'] = df_sel['HCV Serostatus'].replace({'Not Done': 'UNKNOWN'})\n",
    "df_sel['Donor CMV IgG (Living Donor)'] = df_sel['Donor CMV IgG (Living Donor)'].replace({'Not Reported': 'UNKNOWN', 'Not Done': 'UNKNOWN'})\n",
    "df_sel['EBV IgG (Deceased Donor)'] = df_sel['EBV IgG (Deceased Donor)'].replace({'Not Done': 'UNKNWON', 'Not Reported': 'UNKNOWN', 'Indeterminate': 'UNKNOWN', 'Pending': 'UNKNOWN'})\n",
    "df_sel['Donor History of Diabetes'] = df_sel['Donor History of Diabetes'].replace({'Unknown': 'UNKNOWN',  'Not Reported': 'UNKNOWN'})\n",
    "df_sel['Donor History of Cancer (Y/N)'] = df_sel['Donor History of Cancer (Y/N)'].replace({'Unknown': 'UNKNOWN',  'Not Reported': 'UNKNOWN'})\n",
    "df_sel['Donor History of Cigarettes in Past (>20 Pack Years)'] = df_sel['Donor History of Cigarettes in Past (>20 Pack Years)'].replace({'Unknown': 'UNKNOWN',  'Not Reported': 'UNKNOWN'})\n",
    "df_sel['Donor History of Cocaine Use in Past'] = df_sel['Donor History of Cocaine Use in Past'].replace({'Unknown': 'UNKNOWN',  'Not Reported': 'UNKNOWN'})\n",
    "df_sel['Donor History of Hypertension'] = df_sel['Donor History of Hypertension'].replace({'YES, 0-5 YEARS': 'Yes' ,'YES, 6-10 YEARS': 'Yes', 'YES, >10 YEARS': 'Yes', 'YES, UNKNOWN DURATION': 'Yes',\n",
    "                                                                                           'Not Reported': 'UNKNOWN'})\n",
    "df_sel['Donor History of Other Drug Use in Past'] = df_sel['Donor History of Other Drug Use in Past'].replace({'Unknown': 'UNKNOWN',  'Not Reported': 'UNKNOWN'})\n",
    "df_sel['Donor HCV Antibody (Deceased Donor)'] = df_sel['Donor HCV Antibody (Deceased Donor)'].replace({'Not Reported': 'UNKNOWN'})\n",
    "df_sel['Donor HBV Core Antibody (Living and Deceased)'] = df_sel['Donor HBV Core Antibody (Living and Deceased)'].replace({'Not Done': 'UNKNOWN'})\n",
    "df_sel['Donor HBV Surface Antibody Total (Deceased)'] = df_sel['Donor HBV Surface Antibody Total (Deceased)'].replace({'Not Done': 'UNKNOWN', 'Not Reported': 'UNKNOWN'})\n",
    "df_sel['Donor HCV Antibody (Living Donor)'] = df_sel['Donor HCV Antibody (Living Donor)'].replace({'Not Done': 'UNKNOWN'})\n",
    "df_sel['Donor HCV RIBA (Living Donor)'] = df_sel['Donor HCV RIBA (Living Donor)'].replace({'Not Done': 'UNKNOWN', 'Unknown': 'UNKNOWN', 'Not Reported': 'UNKNOWN'})\n",
    "df_sel['Donor HCV RNA (Living Donor)'] = df_sel['Donor HCV RNA (Living Donor)'].replace({'Not Done': 'UNKNOWN', 'Unknown': 'UNKNOWN', 'Not Reported': 'UNKNOWN'})\n",
    "\n",
    "df_sel['Race/Ethnicity Category'] = df_sel['Race/Ethnicity Category'].replace({'Amer Ind/Alaska Native': 'UNKNOWN', 'Asian': 'UNKNOWN', 'Multiracial': 'UNKNOWN', 'Native Hawaiian/other Pacific Islander': 'UNKNOWN'})\n",
    "df_sel['Donor Race/Ethnicity Category'] = df_sel['Donor Race/Ethnicity Category'].replace({'Donor Amer Ind/Alaska Native': 'UNKNOWN', 'Asian': 'UNKNOWN', 'Multiracial': 'UNKNOWN', 'Native Hawaiian/other Pacific Islander': 'UNKNOWN'})\n",
    "\n",
    "mask = df_sel['Primary Diagnosis at Transplant']=='OTHER SPECIFY'\n",
    "df_sel.loc[mask, 'Primary Diagnosis at Transplant'] = df_sel.loc[mask, 'Primary Diagnosis at Transplant, Specify']\n",
    "\n",
    "mask = df_sel['Previous Malignancy Type at Transplant']==' Other, specify'\n",
    "df_sel.loc[mask, 'Previous Malignancy Type at Transplant'] = df_sel.loc[mask, 'Previous Malignancy Type, Specify at Transplant']\n",
    "\n",
    "mask = df_sel['Living Donor Relation to Recipient']=='Non-Biological, Other Unrelated Directed Donation: Specify'\n",
    "df_sel.loc[mask, 'Living Donor Relation to Recipient'] = df_sel.loc[mask, 'Living Donor Relation to Recipient, Specify']\n",
    "\n",
    "df_sel['Transplant Date_DEID'] = pd.to_datetime(df_sel['Transplant Date_DEID'], format = \"%Y-%m-%d\", errors = 'ignore') \n",
    "df_sel['Graft Failure  Date_DEID'] = pd.to_datetime(df_sel['Graft Failure  Date_DEID'], format = \"%Y-%m-%d\", errors = 'ignore') \n",
    "df_sel['Date of Birth_DEID'] = pd.to_datetime(df_sel['Date of Birth_DEID'], format = \"%Y-%m-%d\", errors = 'ignore') \n",
    "                                                \n",
    "df_sel['Date GFR Became <=20 Mil/Min (Kidney)_DEID'] = pd.to_datetime(df_sel['Date GFR Became <=20 Mil/Min (Kidney)_DEID'], format = \"%Y-%m-%d\", errors = 'ignore')\n",
    "df_sel['Date First Dialyzed (TRR)_DEID'] = pd.to_datetime(df_sel['Date First Dialyzed (TRR)_DEID'], format = \"%Y-%m-%d\", errors = 'ignore')\n",
    "df_sel['Date Began Dialysis (WL)_DEID'] = pd.to_datetime(df_sel['Date Began Dialysis (WL)_DEID'], format = \"%Y-%m-%d\", errors = 'ignore')\n",
    "                                                \n",
    "df_sel['Composite Patient Death Date From OPTN Or Verified From External Sources_DEID'] = pd.to_datetime(df_sel['Composite Patient Death Date From OPTN Or Verified From External Sources_DEID'], format = \"%Y-%m-%d\", errors = 'ignore')\n",
    "\n",
    "for i,j in df_sel.iterrows():\n",
    "    dt = df_sel.at[i, 'Transplant Date_DEID']\n",
    "    dial_1st = df_sel.at[i, 'Date First Dialyzed (TRR)_DEID']\n",
    "    dial_begin = df_sel.at[i, 'Date Began Dialysis (WL)_DEID']\n",
    "    death_dt = df_sel.at[i, 'Composite Patient Death Date From OPTN Or Verified From External Sources_DEID']\n",
    "    birth_dt = df_sel.at[i, 'Date of Birth_DEID']\n",
    "    graft_dt = df_sel.at[i, 'Graft Failure  Date_DEID']\n",
    "    if type(dial_1st) is not str:\n",
    "        df_sel.at[i, 'Date First Dialyzed (TRR)_diff'] = (dt-dial_1st).days\n",
    "    else:\n",
    "        df_sel.at[i, 'Date First Dialyzed (TRR)_diff'] = 1e5\n",
    "    if type(dial_begin) is not str:\n",
    "        df_sel.at[i, 'Date Began Dialysis (WL)_diff'] = (dt-dial_begin).days\n",
    "    else:\n",
    "        df_sel.at[i, 'Date Began Dialysis (WL)_diff'] = 1e5\n",
    "    if type(death_dt) is not str:\n",
    "        df_sel.at[i, 'Death Date_diff'] = (death_dt-dt).days\n",
    "    else:\n",
    "        df_sel.at[i, 'Death Date_diff'] = 1e5\n",
    "    if type(graft_dt) is not str:\n",
    "        df_sel.at[i, 'Graft Failure Date_diff'] = (graft_dt-dt).days\n",
    "    else:\n",
    "        df_sel.at[i, 'Graft Failure Date_diff'] = 1e5\n",
    "                                                \n",
    "#     if df_sel.at[i, 'Age in Years at Transplant'] == 'UNKNOWN' and birth_dt != 'UNKNOWN':  ### birthdays are unknown too in these cases\n",
    "#         print(birth_dt)\n",
    "#         df_sel.at[i, 'Age in Years at Transplant'] = np.round((dt-birth_dt)/365.25)\n",
    "#         print(i, np.round((dt-birth_dt)/365.25))\n",
    "    if i%500==0:\n",
    "        print(i)\n",
    "bins = [ 0, 365, 2*365, 3*365, 4*365, 5*365, 6*365, 7*365, 8*365, 9*365, 3650, 1e5]\n",
    "df_sel['Date Began Dialysis (WL)_diff_binned'] = pd.cut(df_sel['Date Began Dialysis (WL)_diff'], bins = bins)\n",
    "df_sel['Date First Dialyzed (TRR)_diff_binned'] = pd.cut(df_sel['Date First Dialyzed (TRR)_diff'], bins = bins)\n",
    "df_sel['Date Began Dialysis (WL)_diff_binned'].value_counts(), df_sel['Date First Dialyzed (TRR)_diff_binned'].value_counts()\n",
    "\n",
    "def map_bmi(x):\n",
    "    if type(x) is str and x == 'UNKNOWN':\n",
    "        return 'UNKNOWN'\n",
    "    elif x<=18.5:\n",
    "        return 'Underweight'\n",
    "    elif x<=24.9:\n",
    "        return 'Healthy'\n",
    "    elif x<=29.9:\n",
    "        return 'Overweight'\n",
    "    else:\n",
    "        return 'Obese'\n",
    "    \n",
    "def map_age(x):\n",
    "    if type(x) is str and x == 'UNKNOWN':\n",
    "        return -1\n",
    "    else:\n",
    "        return np.floor(x/10)\n",
    "\n",
    "df_sel['Age in Years at Transplant_binned'] = df_sel['Age in Years at Transplant'].apply(map_age)\n",
    "df_sel['Donor Age_binned'] = df_sel['Donor Age'].apply(map_age)\n",
    "df_sel['BMI at Transplant_binned'] = df_sel['BMI at Transplant'].apply(map_bmi)\n",
    "\n",
    "\n",
    "df_sel['GF_Death_diff'] = df_sel[['Graft Failure Date_diff','Death Date_diff']].min(axis=1)\n",
    "\n",
    "df_sel['Donor Weight (Kg)'] = df_sel['Donor Weight (Kg)'].replace({'UNKNOWN':-1})\n",
    "bins = [ -10, 0, 25, 2*25, 3*25, 4*25, 5*25, 6*25, 7*25, 8*25, 9*25]\n",
    "df_sel['Donor Weight (Kg)_binned'] = pd.cut(df_sel['Donor Weight (Kg)'], bins = bins)\n",
    "\n",
    "\n",
    "bins = [-1, 0, 25, 50, 75, 100]\n",
    "df_sel['CPRA at Transplant_binned'] = pd.cut(df_sel['CPRA at Transplant'], bins = bins)\n",
    "\n",
    "df_sel[ 'Cold Ischemic Time (Hours) (KI,LI)'] = df_sel[ 'Cold Ischemic Time (Hours) (KI,LI)'].replace({'UNKNOWN':-1})\n",
    "bins = [ -10, 0, 10, 20, 30, 40, 50, 60]\n",
    "df_sel[ 'Cold Ischemic Time (Hours) (KI,LI)_binned'] = pd.cut(df_sel[ 'Cold Ischemic Time (Hours) (KI,LI)'], bins = bins)\n",
    "\n",
    "df_sel[ 'Donor Terminal Lab Creatinine'] = df_sel[ 'Donor Terminal Lab Creatinine'].replace({'UNKNOWN':-1})\n",
    "bins = [ -5, 0, 5, 10, 15]\n",
    "df_sel[ 'Donor Terminal Lab Creatinine_binned'] = pd.cut(df_sel[ 'Donor Terminal Lab Creatinine'], bins = bins)\n",
    "\n",
    "df_sel['Most Recent Serum Creatinine at Time of Transplant'] = df_sel['Most Recent Serum Creatinine at Time of Transplant'].replace({'UNKNOWN':-1})\n",
    "bins = [-5, 0, 5, 10, 15, 20, 25, 30]\n",
    "df_sel['Most Recent Serum Creatinine at Time of Transplant_binned'] = pd.cut(df_sel['Most Recent Serum Creatinine at Time of Transplant'], bins = bins)\n",
    "\n",
    "df_sel['Donor Weight (Kg)_binned'].value_counts(), df_sel['CPRA at Transplant_binned'].value_counts(), df_sel[ 'Cold Ischemic Time (Hours) (KI,LI)_binned'].value_counts(),  df_sel[ 'Donor Terminal Lab Creatinine_binned'].value_counts(), df_sel['Most Recent Serum Creatinine at Time of Transplant_binned'].value_counts()\n",
    "\n",
    "## features\n",
    "discrete_cols = ['Blood Type', 'CMV IgG', 'Gender',  'Functional Status at Transplant', 'Race/Ethnicity Category', 'Status at Transplant', 'EBV Serostatus', 'Diabetes at Listing', \n",
    "                 'Primary Diagnosis at Transplant', 'Pretransplant Dialysis at Transplant', 'Kidney Received on Ice or Pump', 'Multi-Organ Transplant?', \n",
    "                 'Number of Previous Transplants',  'Medical Condition at Listing', 'Previous Malignancy at Listing', \n",
    "                 'Previous Malignancy at Transplant', 'Previous Malignancy Type at Transplant', 'HLA Mismatch Level', 'HIV Serostatus', 'HCV Serostatus', 'HBV Core Antibody', 'HBV Surface Antibody Total',\n",
    "                 'History of a Previous Transplant Involving Exact Same Organ as Current Transplant', 'Previous Solid Organ Transplant (Any Organ)', 'Kidney Pump Used?',\n",
    "                 'Age in Years at Transplant_binned', 'BMI at Transplant_binned',  'Donor Age_binned', 'Date Began Dialysis (WL)_diff_binned', 'CPRA at Transplant_binned', \n",
    "                 'Cold Ischemic Time (Hours) (KI,LI)_binned', 'Most Recent Serum Creatinine at Time of Transplant_binned',\n",
    "                 \n",
    "                 'Donor Blood Type', 'Donor CMV IgG (Living Donor)', 'Donor Gender', 'Donor Race/Ethnicity Category', 'EBV IgG (Living Donor)', 'EBV IgG (Deceased Donor)', \n",
    "                 'Donor Type - Deceased or Living', 'Donation After Circulatory Death?', 'Donor History of Diabetes', 'Donor History of Cancer (Y/N)', \n",
    "                 'Donor History of Cigarettes in Past (>20 Pack Years)', 'Donor History of Cocaine Use in Past', 'Donor History of Hypertension', 'Donor History of Other Drug Use in Past', \n",
    "                 'Donor HCV Antibody (Deceased Donor)', 'Donor HBV Core Antibody (Living and Deceased)', 'Donor HBV Surface Antibody Total (Deceased)', 'Donor HCV Antibody (Living Donor)', \n",
    "                 'Donor HCV NAT (Deceased)', 'Donor HCV RIBA (Living Donor)', 'Donor HCV RNA (Living Donor)', 'Donor Weight (Kg)_binned', 'Donor Terminal Lab Creatinine_binned'\n",
    "                ]\n",
    "\n"
   ]
  },
  {
   "cell_type": "code",
   "execution_count": 3,
   "metadata": {},
   "outputs": [],
   "source": [
    "# Read dfkey data\n",
    "dfkey = pd.read_csv('./datasets/ECG_data_NEW_w_cardiac_outcome_2yrs_future_confirmed_anonym.csv')\n",
    "dfkey['transplantDate_DEID'] = pd.to_datetime(dfkey['transplantDate_DEID']).dt.date\n",
    "# rename df_cpt and dfkey columns - remove underscore in names - _x columns do not result\n",
    "dfkey.drop(columns=['MRN_DEID', 'Transplant Date_x_DEID', 'Transplant Date_y_DEID'], inplace=True)\n",
    "dfkey.rename(columns={'MRN_formatted_DEID': 'MRN_DEID', 'transplantDate_DEID' : 'TransplantDate_DEID'}, inplace=True)\n",
    "\n",
    "# Read ECG data\n",
    "ecg = pkl.load(open('./datasets/ECG_data_NEW.pkl', 'rb'))\n",
    "dfkey_ecg = pd.read_csv('./datasets/ECG_data_NEW_w_cardiac_outcome_2yrs_future_confirmed_w_ImageName_anonym.csv')\n",
    "dfkey_ecg['transplantDate_DEID'] = pd.to_datetime(dfkey_ecg['transplantDate_DEID']).dt.date\n",
    "# dfkey['transplantDate'] = pd.to_datetime(dfkey['transplantDate']).dt.date\n",
    "dfkey_ecg = dfkey_ecg.loc[dfkey_ecg['transplantDate_DEID']<=datetime.date(2020,6,30)]\n",
    "dfkey_ecg.drop(columns=['MRN_DEID', 'Transplant Date_x_DEID', 'Transplant Date_y_DEID'], inplace=True)\n",
    "dfkey_ecg.rename(columns={'MRN_formatted_DEID': 'MRN_DEID', 'transplantDate_DEID' : 'TransplantDate_DEID'}, inplace=True)\n",
    "\n",
    "# get all unique common MRN common in tabular and ecg dataset for split in train, val, test sets\n",
    "mrn_unique = dfkey.MRN_DEID.unique()\n",
    "ecg_mrn_unique = dfkey_ecg.MRN_DEID.unique()\n",
    "common_mrn_unique = np.intersect1d(mrn_unique, ecg_mrn_unique)\n",
    "df_common_mrn_unique = pd.DataFrame({'common_mrn_unique': common_mrn_unique})\n",
    "\n",
    "# remove uncommon patients from dfkey and dfkey_ecg \n",
    "dfkey_common = pd.merge(dfkey, df_common_mrn_unique, left_on='MRN_DEID', right_on='common_mrn_unique', how='inner')\n",
    "dfkey_ecg_common = pd.merge(dfkey_ecg, df_common_mrn_unique, left_on='MRN_DEID', right_on='common_mrn_unique', how='inner')\n"
   ]
  },
  {
   "cell_type": "code",
   "execution_count": 4,
   "metadata": {},
   "outputs": [
    {
     "name": "stdout",
     "output_type": "stream",
     "text": [
      "398 341\n"
     ]
    }
   ],
   "source": [
    "# more processing of discrete columns of UNOS data\n",
    "df_sel.rename(columns={'transplantDate_DEID' : 'TransplantDate_DEID'}, inplace=True)\n",
    "# cols_key = [c for c in dfkey_common.columns if c not in discrete_cols]\n",
    "\n",
    "to_be_removed = ['Gender_Female','Diabetes at Listing_No', 'Pretransplant Dialysis at Transplant_No', 'Multi-Organ Transplant?_NO', 'Donor CMV IgG (Living Donor)_Negative',\n",
    " 'Donor Gender_Female', 'EBV Serostatus_Negative', 'Kidney Received on Ice or Pump_Ice', 'Previous Malignancy at Listing_No', 'Previous Malignancy at Transplant_No', 'HIV Serostatus_Positive',\n",
    " 'HCV Serostatus_Negative',\n",
    " 'HBV Core Antibody_Negative',\n",
    " 'HBV Surface Antibody Total_Negative',\n",
    " 'History of a Previous Transplant Involving Exact Same Organ as Current Transplant_No',\n",
    " 'Previous Solid Organ Transplant (Any Organ)_No',\n",
    " 'Kidney Pump Used?_No','Donor CMV IgG (Living Donor)_Negative',\n",
    " 'EBV IgG (Deceased Donor)_UNKNWON',\n",
    " 'Donor Type - Deceased or Living_Living Donor',\n",
    " 'Donation After Circulatory Death?_Yes',\n",
    " 'Donor History of Diabetes_Yes',\n",
    " 'Donor History of Cancer (Y/N)_Yes',\n",
    " 'Donor History of Cigarettes in Past (>20 Pack Years)_Yes',\n",
    " 'Donor History of Cocaine Use in Past_Yes',\n",
    " 'Donor History of Hypertension_Yes',\n",
    " 'Donor History of Other Drug Use in Past_Yes',\n",
    " 'Donor HCV Antibody (Deceased Donor)_Positive',\n",
    " 'Donor HBV Core Antibody (Living and Deceased)_Positive',\n",
    " 'Donor HBV Surface Antibody Total (Deceased)_Positive',\n",
    " 'Donor HCV Antibody (Living Donor)_Positive',\n",
    " 'Donor HCV NAT (Deceased)_Positive'\n",
    "] \n",
    "npd_discrete = df_sel[discrete_cols].copy().to_numpy()\n",
    "enc = OneHotEncoder(handle_unknown='ignore')\n",
    "enc.fit(npd_discrete)\n",
    "feature_names = []\n",
    "feature_names_wo_unknown = []\n",
    "feature_names_for_explainer = {}\n",
    "unknown_idx = []\n",
    "k = 0\n",
    "for i in range(len(discrete_cols)):\n",
    "    c = discrete_cols[i]\n",
    "    cats = enc.categories_[i]\n",
    "    feature_names_for_explainer[i] = []\n",
    "    for cc in cats:\n",
    "        feature_names.append(c+'_'+str(cc))\n",
    "        if cc=='UNKNOWN' or cc=='Unknown' or cc==-1:\n",
    "            unknown_idx.append(k)\n",
    "        else:\n",
    "            if c+'_'+str(cc) not in to_be_removed:\n",
    "                feature_names_wo_unknown.append(c+'_'+str(cc))\n",
    "                feature_names_for_explainer[i].append(cc)\n",
    "            else:\n",
    "                unknown_idx.append(k)\n",
    "        k+=1\n",
    "    #print(c, cats, k)\n",
    "# for c in cont_cols:\n",
    "#     feature_names.append(c)\n",
    "#     feature_names_wo_unknown.append(c)\n",
    "print(len(feature_names), len(feature_names_wo_unknown))\n",
    "\n",
    "# Convert discrete columns to numerical values\n",
    "npd_discrete = df_sel[discrete_cols].copy().to_numpy()\n",
    "enc = OneHotEncoder(handle_unknown='ignore')\n",
    "enc.fit(npd_discrete)\n",
    "mat = np.asarray(enc.transform(npd_discrete).todense())\n",
    "mat = np.delete(mat, unknown_idx, axis=1)\n",
    "\n",
    "# Label encode discrete columns and store the result in mat\n",
    "mat = df_sel[discrete_cols].apply(LabelEncoder().fit_transform)\n",
    "\n",
    "# Replace the discrete columns in df_sel with mat\n",
    "df_sel[discrete_cols] = mat\n",
    "\n",
    "cols_key = [c for c in dfkey.columns if c not in discrete_cols]\n",
    "dfkey_unos = dfkey_common[cols_key].merge(df_sel[['MRN_DEID', 'TransplantDate_DEID']+discrete_cols], on=['MRN_DEID', 'TransplantDate_DEID'], how='left')\n",
    "dfkey_unos.fillna(0, inplace=True)\n",
    "\n"
   ]
  },
  {
   "cell_type": "markdown",
   "metadata": {},
   "source": [
    "## dataset split - train, val, test"
   ]
  },
  {
   "cell_type": "code",
   "execution_count": 5,
   "metadata": {},
   "outputs": [],
   "source": [
    "# Create train val test split for common MRN_DEID and save them for reproducibility\n",
    "# Define the proportions for train, validation, and test sets\n",
    "train_split = 0.7  # 70% for training\n",
    "val_split = 0.15  # 15% for validation\n",
    "test_split = 0.15   # 15% for testing\n",
    "\n",
    "# Calculate the sizes of each split\n",
    "total_samples = len(common_mrn_unique)\n",
    "train_size = int(train_split * total_samples)\n",
    "val_size = int(val_split * total_samples)\n",
    "test_size = int(test_split * total_samples)\n",
    "\n",
    "# Create indices for the train, validation, and test splits\n",
    "np.random.seed(seed)\n",
    "indices = np.arange(total_samples)\n",
    "np.random.shuffle(indices)\n",
    "\n",
    "train_indices = indices[:train_size]\n",
    "val_indices = indices[train_size:(train_size + val_size)]\n",
    "test_indices = indices[(train_size + val_size):(train_size + val_size + test_size)]\n",
    "\n",
    "# Split the original data array based on the indices\n",
    "mrn_train = common_mrn_unique[train_indices]\n",
    "mrn_val = common_mrn_unique[val_indices]\n",
    "mrn_test = common_mrn_unique[test_indices]\n",
    "\n",
    "# np.savetxt('mrn_train.csv', mrn_train, delimiter=',', fmt='%.0f')\n",
    "# np.savetxt('mrn_val.csv', mrn_val, delimiter=',', fmt='%.0f')\n",
    "# np.savetxt('mrn_test.csv', mrn_test, delimiter=',', fmt='%.0f')\n",
    "\n",
    "# mrn_train = np.loadtxt('mrn_train.csv', delimiter=',', dtype=np.int64)\n",
    "# mrn_val = np.loadtxt('mrn_val.csv', delimiter=',', dtype=np.int64)\n",
    "# mrn_test = np.loadtxt('mrn_test.csv', delimiter=',', dtype=np.int64)"
   ]
  },
  {
   "cell_type": "code",
   "execution_count": 6,
   "metadata": {},
   "outputs": [
    {
     "data": {
      "text/plain": [
       "array([47054367, 36072161, 37995004, ..., 10716356, 51748141, 84354044])"
      ]
     },
     "execution_count": 6,
     "metadata": {},
     "output_type": "execute_result"
    }
   ],
   "source": [
    "mrn_train"
   ]
  },
  {
   "cell_type": "code",
   "execution_count": 7,
   "metadata": {},
   "outputs": [],
   "source": [
    "dfkey_train = dfkey_common.loc[dfkey_common.MRN_DEID.isin(mrn_train)]\n",
    "dfkey_val = dfkey_common.loc[dfkey_common.MRN_DEID.isin(mrn_val)]\n",
    "dfkey_test = dfkey_common.loc[dfkey_common.MRN_DEID.isin(mrn_test)]\n"
   ]
  },
  {
   "cell_type": "code",
   "execution_count": 8,
   "metadata": {},
   "outputs": [],
   "source": [
    "# Read CPT data\n",
    "df_cpt = pd.read_csv('./datasets/Procedure_before_transplant_2yrs_history_anonym.csv')\n",
    "df_cpt['Transplant Date_DEID'] = pd.to_datetime(df_cpt['Transplant Date_DEID']).dt.date\n",
    "df_cpt.rename(columns={ 'Transplant Date_DEID':'TransplantDate_DEID'}, inplace=True)\n",
    "cols_cpt = df_cpt.columns[8:-3]\n",
    "\n",
    "# Read ICD data\n",
    "df_icd = pd.read_csv('./datasets/ICD9_ICD10_before_transplant_2yrs_history_anonym.csv')\n",
    "cols_icd = df_icd.columns[8:]\n",
    "cols_icd = [c for c in cols_icd if c[0] not in 'RSTUVWXYZ']\n",
    "df_icd['Transplant Date_DEID'] = pd.to_datetime(df_icd['transplantDate_DEID']).dt.date\n",
    "df_icd.rename(columns={'Transplant Date_DEID':'TransplantDate_DEID'}, inplace=True)\n",
    "\n"
   ]
  },
  {
   "cell_type": "code",
   "execution_count": 9,
   "metadata": {},
   "outputs": [],
   "source": [
    "# merge with CPT\n",
    "dfkey_unos_cpt = dfkey_unos.merge(df_cpt[['MRN_DEID', 'TransplantDate_DEID']+list(cols_cpt)], on=['MRN_DEID', 'TransplantDate_DEID'], how='left')\n",
    "\n",
    "# merge with ICD - all tabular datasets merged\n",
    "dfkey_unos_cpt_icd = dfkey_unos_cpt.merge(df_icd[['MRN_DEID', 'TransplantDate_DEID'] + list(cols_icd)], on=['MRN_DEID', 'TransplantDate_DEID'], how='left')\n",
    "\n",
    "# fill na values to 0\n",
    "dfkey_unos_cpt_icd[cols_cpt].fillna(0).to_numpy().astype('float32')\n",
    "dfkey_unos_cpt_icd[cols_icd].fillna(0).to_numpy().astype('float32')\n",
    "\n",
    "\n",
    "# Merging cpt and icd & selecting relevant columns, which are already selected\n",
    "df1 = dfkey_unos_cpt_icd[cols_cpt]\n",
    "df2 = dfkey_unos_cpt_icd[cols_icd]\n",
    "df3 = dfkey_unos_cpt_icd[discrete_cols]\n",
    "mrn = dfkey_unos_cpt_icd['MRN_DEID']\n",
    "y = dfkey_unos_cpt_icd['CardiacFuture_confirmed']\n",
    "dfkey_tab = pd.concat([df1, df2, df3, mrn, y], axis=1)\n",
    "dfkey_tab = dfkey_tab.fillna(0)\n",
    "\n",
    "#  Splitting tabular data into train/val/test\n",
    "df_train_tab = dfkey_tab.loc[dfkey_tab.MRN_DEID.isin(mrn_train)]\n",
    "df_val_tab = dfkey_tab.loc[dfkey_tab.MRN_DEID.isin(mrn_val)]\n",
    "df_test_tab = dfkey_tab.loc[dfkey_tab.MRN_DEID.isin(mrn_test)]\n",
    "\n",
    "# Splitting df_ecg into train/val/test\n",
    "x_train_ecg = dfkey_ecg_common.loc[dfkey_ecg_common.MRN_DEID.isin(mrn_train)]\n",
    "x_val_ecg = dfkey_ecg_common.loc[dfkey_ecg_common.MRN_DEID.isin(mrn_val)]\n",
    "x_test_ecg = dfkey_ecg_common.loc[dfkey_ecg_common.MRN_DEID.isin(mrn_test)]\n",
    "\n",
    "x_train_tab = df_train_tab.drop(columns=['MRN_DEID', 'CardiacFuture_confirmed'])\n",
    "x_val_tab = df_val_tab.drop(columns=['MRN_DEID', 'CardiacFuture_confirmed'])\n",
    "x_test_tab = df_test_tab.drop(columns=['MRN_DEID', 'CardiacFuture_confirmed'])\n",
    "\n",
    "y_train_tab = df_train_tab['CardiacFuture_confirmed'].values\n",
    "y_val_tab = df_val_tab['CardiacFuture_confirmed'].values\n",
    "y_test_tab = df_test_tab['CardiacFuture_confirmed'].values\n"
   ]
  },
  {
   "cell_type": "code",
   "execution_count": 10,
   "metadata": {},
   "outputs": [
    {
     "data": {
      "text/plain": [
       "(0.04168893639764832, 0.04488778054862843, 0.04738154613466334)"
      ]
     },
     "execution_count": 10,
     "metadata": {},
     "output_type": "execute_result"
    }
   ],
   "source": [
    "# Test distribution of positive samples which is same in all the splits\n",
    "y_train_tab.sum()/len(y_train_tab), y_val_tab.sum()/len(y_val_tab), y_test_tab.sum()/len(y_test_tab)"
   ]
  },
  {
   "cell_type": "code",
   "execution_count": 11,
   "metadata": {},
   "outputs": [
    {
     "data": {
      "text/plain": [
       "((1871, 452), (401, 452), (401, 452), (1871,), (401,), (401,))"
      ]
     },
     "execution_count": 11,
     "metadata": {},
     "output_type": "execute_result"
    }
   ],
   "source": [
    "x_train_tab.shape, x_val_tab.shape, x_test_tab.shape, y_train_tab.shape, y_val_tab.shape, y_test_tab.shape"
   ]
  },
  {
   "cell_type": "code",
   "execution_count": 12,
   "metadata": {},
   "outputs": [
    {
     "data": {
      "text/plain": [
       "((1871, 147), (401, 147), (401, 147))"
      ]
     },
     "execution_count": 12,
     "metadata": {},
     "output_type": "execute_result"
    }
   ],
   "source": [
    "x_train_ecg.shape, x_val_ecg.shape, x_test_ecg.shape"
   ]
  },
  {
   "cell_type": "code",
   "execution_count": 13,
   "metadata": {},
   "outputs": [
    {
     "name": "stdout",
     "output_type": "stream",
     "text": [
      "Train IDs match: True\n",
      "Validation IDs match: True\n",
      "Test IDs match: True\n"
     ]
    }
   ],
   "source": [
    "# checking no data leakage: same patients in tabular and ecg data across the splits\n",
    "# Convert patient IDs in each split to sets for easy comparison\n",
    "train_ids_tab = set(df_train_tab['MRN_DEID'])\n",
    "val_ids_tab = set(df_val_tab['MRN_DEID'])\n",
    "test_ids_tab = set(df_test_tab['MRN_DEID'])\n",
    "\n",
    "train_ids_ecg = set(x_train_ecg['MRN_DEID'])\n",
    "val_ids_ecg = set(x_val_ecg['MRN_DEID'])\n",
    "test_ids_ecg = set(x_test_ecg['MRN_DEID'])\n",
    "\n",
    "# Compare patient IDs in each split\n",
    "train_match = train_ids_tab == train_ids_ecg\n",
    "val_match = val_ids_tab == val_ids_ecg\n",
    "test_match = test_ids_tab == test_ids_ecg\n",
    "\n",
    "# Print the results\n",
    "print(f'Train IDs match: {train_match}')\n",
    "print(f'Validation IDs match: {val_match}')\n",
    "print(f'Test IDs match: {test_match}')\n"
   ]
  },
  {
   "cell_type": "code",
   "execution_count": 14,
   "metadata": {},
   "outputs": [
    {
     "data": {
      "text/plain": [
       "pandas.core.frame.DataFrame"
      ]
     },
     "execution_count": 14,
     "metadata": {},
     "output_type": "execute_result"
    }
   ],
   "source": [
    "type(x_train_tab)"
   ]
  },
  {
   "cell_type": "code",
   "execution_count": 15,
   "metadata": {},
   "outputs": [],
   "source": [
    "df_train_tab.to_csv('./processed-datasets/df_train_tab.csv')\n",
    "df_val_tab.to_csv('./processed-datasets/df_val_tab.csv')\n",
    "df_test_tab.to_csv('./processed-datasets/df_test_tab.csv')\n",
    "x_train_ecg.to_csv('./processed-datasets/x_train_ecg.csv')\n",
    "x_val_ecg.to_csv('./processed-datasets/x_val_ecg.csv')\n",
    "x_test_ecg.to_csv('./processed-datasets/x_test_ecg.csv')"
   ]
  },
  {
   "cell_type": "code",
   "execution_count": null,
   "metadata": {},
   "outputs": [],
   "source": []
  }
 ],
 "metadata": {
  "kernelspec": {
   "display_name": "mace",
   "language": "python",
   "name": "python3"
  },
  "language_info": {
   "codemirror_mode": {
    "name": "ipython",
    "version": 3
   },
   "file_extension": ".py",
   "mimetype": "text/x-python",
   "name": "python",
   "nbconvert_exporter": "python",
   "pygments_lexer": "ipython3",
   "version": "3.10.13"
  }
 },
 "nbformat": 4,
 "nbformat_minor": 2
}
