{
 "cells": [
  {
   "cell_type": "code",
   "execution_count": 2,
   "metadata": {},
   "outputs": [],
   "source": [
    "from imports import *\n",
    "np.set_printoptions(threshold=np.inf)"
   ]
  },
  {
   "cell_type": "code",
   "execution_count": 3,
   "metadata": {},
   "outputs": [],
   "source": [
    "# reading new ecg dataset\n",
    "ecg = pd.read_csv('./datasets/ECG_extracted_filtered_anonym-new.csv')"
   ]
  },
  {
   "cell_type": "code",
   "execution_count": 4,
   "metadata": {},
   "outputs": [
    {
     "data": {
      "text/plain": [
       "Waveform_Type\n",
       "Rhythm    2687\n",
       "Median    2684\n",
       "Name: count, dtype: int64"
      ]
     },
     "execution_count": 4,
     "metadata": {},
     "output_type": "execute_result"
    }
   ],
   "source": [
    "ecg['Waveform_Type'].value_counts()"
   ]
  },
  {
   "cell_type": "code",
   "execution_count": 5,
   "metadata": {},
   "outputs": [
    {
     "name": "stdout",
     "output_type": "stream",
     "text": [
      "True\n"
     ]
    }
   ],
   "source": [
    "# choosing Waveform_Type = 'Rhythm' only\n",
    "ecg_rhythm = ecg[ecg['Waveform_Type'] == 'Rhythm']\n",
    "\n",
    "# choosing Time2Transplant between -180 and 180 days\n",
    "ecg_rhythm_tdate = ecg_rhythm[(ecg_rhythm['Time2Transplant'] >= -180) \n",
    "                              & (ecg_rhythm['Time2Transplant'] <= 180)]\n",
    "\n",
    "# removing unnecessary columns: Waveform_Type and Time2Transplant\n",
    "df_ecg = ecg_rhythm_tdate.drop(['Waveform_Type', 'Time2Transplant'], axis=1) \n",
    "\n",
    "# checking if patient MRN is unique and no duplicates are there\n",
    "is_unique = df_ecg['MRN_formatted_DEID'].nunique() == df_ecg['MRN_formatted_DEID'].count()\n",
    "print(is_unique)\n",
    "\n",
    "# rename MRN column\n",
    "df_ecg.rename(columns={'MRN_formatted_DEID': 'MRN'}, inplace=True)"
   ]
  },
  {
   "cell_type": "code",
   "execution_count": 6,
   "metadata": {},
   "outputs": [],
   "source": [
    "# List all columns except 'MRN'\n",
    "ecg_columns = [col for col in df_ecg.columns if col != 'MRN']  "
   ]
  },
  {
   "cell_type": "code",
   "execution_count": 7,
   "metadata": {},
   "outputs": [],
   "source": [
    "# convert signal string to array\n",
    "def convert_to_array(str_signal):\n",
    "    # Remove square brackets\n",
    "    str_signal = str_signal.strip('[]')\n",
    "\n",
    "    # Replace the ellipsis with a space (if it exists)\n",
    "    str_signal = str_signal.replace('...', ' ')\n",
    "\n",
    "    # Split the string into individual numbers\n",
    "    str_signal = str_signal.split()\n",
    "\n",
    "    # Convert to integers and then to a NumPy array\n",
    "    return np.array([float(num) for num in str_signal])\n",
    "\n",
    "for col in ecg_columns:\n",
    "    df_ecg[col] = df_ecg[col].apply(convert_to_array) "
   ]
  },
  {
   "cell_type": "code",
   "execution_count": 8,
   "metadata": {},
   "outputs": [
    {
     "name": "stdout",
     "output_type": "stream",
     "text": [
      "All signals have a length of 6.\n"
     ]
    }
   ],
   "source": [
    "def get_length(signal):\n",
    "    if signal is not None and not pd.isna(signal).all():\n",
    "        return len(signal)\n",
    "    else:\n",
    "        return 0  \n",
    "\n",
    "# get lengths of ecg signals\n",
    "df_lengths = df_ecg[ecg_columns].applymap(get_length)\n",
    "\n",
    "# Find any instances where length is not 6\n",
    "not_six = df_lengths[df_lengths != 6].dropna(how='all', axis=1)\n",
    "\n",
    "# Check if there are any\n",
    "if not not_six.empty:\n",
    "    print(\"There are signals with length different from 6.\")\n",
    "    print(not_six)\n",
    "else:\n",
    "    print(\"All signals have a length of 6.\")"
   ]
  },
  {
   "cell_type": "code",
   "execution_count": 9,
   "metadata": {},
   "outputs": [],
   "source": [
    "# so no need for padding\n",
    "# normalization of ecg signals\n",
    "\n",
    "def normalize_signal(signal):\n",
    "    min_val = signal.min()\n",
    "    max_val = signal.max()\n",
    "    # Avoid division by zero in case all values in the signal are the same\n",
    "    if max_val - min_val != 0:\n",
    "        normalized_signal = (signal - min_val) / (max_val - min_val)\n",
    "        # Cast to float32\n",
    "        normalized_signal = normalized_signal.astype('float32')\n",
    "        return normalized_signal\n",
    "    else:\n",
    "        return signal\n",
    "    \n",
    "for col in ecg_columns:\n",
    "    df_ecg[col] = df_ecg[col].apply(normalize_signal)\n"
   ]
  },
  {
   "cell_type": "code",
   "execution_count": 10,
   "metadata": {},
   "outputs": [
    {
     "data": {
      "text/html": [
       "<div>\n",
       "<style scoped>\n",
       "    .dataframe tbody tr th:only-of-type {\n",
       "        vertical-align: middle;\n",
       "    }\n",
       "\n",
       "    .dataframe tbody tr th {\n",
       "        vertical-align: top;\n",
       "    }\n",
       "\n",
       "    .dataframe thead th {\n",
       "        text-align: right;\n",
       "    }\n",
       "</style>\n",
       "<table border=\"1\" class=\"dataframe\">\n",
       "  <thead>\n",
       "    <tr style=\"text-align: right;\">\n",
       "      <th></th>\n",
       "      <th>I</th>\n",
       "      <th>II</th>\n",
       "      <th>III</th>\n",
       "      <th>AvR</th>\n",
       "      <th>AvL</th>\n",
       "      <th>AvF</th>\n",
       "      <th>V1</th>\n",
       "      <th>V2</th>\n",
       "      <th>V3</th>\n",
       "      <th>V4</th>\n",
       "      <th>V5</th>\n",
       "      <th>V6</th>\n",
       "      <th>MRN</th>\n",
       "    </tr>\n",
       "  </thead>\n",
       "  <tbody>\n",
       "    <tr>\n",
       "      <th>0</th>\n",
       "      <td>[1.0, 0.7788945, 0.55778897, 0.0, 0.0, 0.0]</td>\n",
       "      <td>[0.1875, 0.104166664, 0.0, 0.9166667, 1.0, 1.0]</td>\n",
       "      <td>[0.0, 0.1632653, 0.3265306, 0.97959185, 1.0, 1.0]</td>\n",
       "      <td>[0.0, 0.2804878, 0.58536583, 1.0, 0.9634146, 0...</td>\n",
       "      <td>[1.0, 0.8082192, 0.6210046, 0.01369863, 0.0, 0.0]</td>\n",
       "      <td>[0.0, 0.123188406, 0.24637681, 0.9637681, 1.0,...</td>\n",
       "      <td>[0.0, 0.5, 1.0, 0.97619045, 1.0, 1.0]</td>\n",
       "      <td>[0.0, 0.5, 1.0, 0.75, 1.0, 1.0]</td>\n",
       "      <td>[0.05263158, 0.02631579, 0.0, 1.0, 0.94736844,...</td>\n",
       "      <td>[0.0, 0.16666667, 0.33333334, 0.93333334, 1.0,...</td>\n",
       "      <td>[0.0, 0.0, 0.0, 1.0, 0.8, 0.8]</td>\n",
       "      <td>[0.0, 0.03448276, 0.06896552, 1.0, 0.9655172, ...</td>\n",
       "      <td>24264922</td>\n",
       "    </tr>\n",
       "    <tr>\n",
       "      <th>2</th>\n",
       "      <td>[0.87096775, 0.9354839, 1.0, 0.0, 0.0, 0.0]</td>\n",
       "      <td>[1.0, 0.9766355, 0.95327103, 0.0, 0.0, 0.0]</td>\n",
       "      <td>[1.0, 0.93939394, 0.8787879, 0.0, 0.0, 0.0]</td>\n",
       "      <td>[0.0, 0.0, 0.0, 1.0, 1.0, 1.0]</td>\n",
       "      <td>[0.0, 0.13207547, 0.28301886, 1.0, 1.0, 1.0]</td>\n",
       "      <td>[1.0, 0.96256685, 0.9197861, 0.0, 0.0, 0.0]</td>\n",
       "      <td>[0.2777778, 0.11111111, 0.0, 1.0, 1.0, 1.0]</td>\n",
       "      <td>[0.11764706, 0.0, 0.0, 1.0, 0.9411765, 0.9411765]</td>\n",
       "      <td>[-19.52, -19.52, -19.52, -19.52, -19.52, -19.52]</td>\n",
       "      <td>[1.0, 1.0, 0.95238096, 0.0, 0.0, 0.0]</td>\n",
       "      <td>[0.5, 1.0, 1.0, 0.0, 0.25, 0.25]</td>\n",
       "      <td>[1.0, 1.0, 1.0, 0.06666667, 0.0, 0.0]</td>\n",
       "      <td>25719094</td>\n",
       "    </tr>\n",
       "    <tr>\n",
       "      <th>4</th>\n",
       "      <td>[0.55172414, 0.77011496, 1.0, 0.057471264, 0.0...</td>\n",
       "      <td>[0.0, 0.1724138, 0.3448276, 1.0, 0.82758623, 0...</td>\n",
       "      <td>[0.16, 0.08, 0.0, 1.0, 0.96, 0.96]</td>\n",
       "      <td>[1.0, 0.5, 0.0, 0.73333335, 1.0, 1.0]</td>\n",
       "      <td>[0.7128713, 0.8613861, 1.0, 0.0, 0.0, 0.0]</td>\n",
       "      <td>[0.0, 0.0, 0.0, 1.0, 0.9113924, 0.9113924]</td>\n",
       "      <td>[0.0, 0.0, 0.0, 0.9, 1.0, 1.0]</td>\n",
       "      <td>[0.0, 0.0, 0.0, 1.0, 1.0, 1.0]</td>\n",
       "      <td>[0.0, 0.0, 0.0, 0.6666667, 1.0, 1.0]</td>\n",
       "      <td>[0.9298246, 0.9649123, 1.0, 0.0, 0.01754386, 0...</td>\n",
       "      <td>[0.4, 0.2, 0.0, 1.0, 1.0, 1.0]</td>\n",
       "      <td>[0.03448276, 0.03448276, 0.0, 1.0, 1.0, 1.0]</td>\n",
       "      <td>97580870</td>\n",
       "    </tr>\n",
       "    <tr>\n",
       "      <th>6</th>\n",
       "      <td>[0.0, 0.0, 0.0, 1.0, 0.7916667, 0.7916667]</td>\n",
       "      <td>[0.32876712, 0.6712329, 1.0, 0.0, 0.0, 0.06849...</td>\n",
       "      <td>[0.5, 0.75, 1.0, 0.0, 0.05, 0.1]</td>\n",
       "      <td>[0.9230769, 0.46153846, 0.0, 0.9230769, 1.0, 0...</td>\n",
       "      <td>[0.39344263, 0.19672132, 0.0, 1.0, 0.91803277,...</td>\n",
       "      <td>[0.43023255, 0.7093023, 1.0, 0.0, 0.034883723,...</td>\n",
       "      <td>[0.875, 0.9375, 1.0, 0.0, 0.0, 0.0]</td>\n",
       "      <td>[0.071428575, 0.035714287, 0.0, 1.0, 0.9642857...</td>\n",
       "      <td>[0.15384616, 0.07692308, 0.0, 1.0, 1.0, 1.0]</td>\n",
       "      <td>[1.0, 0.95, 0.9, 0.0, 0.05, 0.05]</td>\n",
       "      <td>[0.22222222, 0.11111111, 0.0, 1.0, 0.8888889, ...</td>\n",
       "      <td>[0.0, 0.09090909, 0.18181819, 1.0, 1.0, 1.0]</td>\n",
       "      <td>77281657</td>\n",
       "    </tr>\n",
       "    <tr>\n",
       "      <th>8</th>\n",
       "      <td>[1.0, 1.0, 1.0, 0.05, 0.0, 0.0]</td>\n",
       "      <td>[0.08064516, 0.04032258, 0.0, 1.0, 1.0, 1.0]</td>\n",
       "      <td>[0.04347826, 0.02173913, 0.0, 0.9782609, 1.0, ...</td>\n",
       "      <td>[0.6666667, 0.8333333, 1.0, 0.0, 0.16666667, 0...</td>\n",
       "      <td>[0.9691358, 0.9845679, 1.0, 0.030864198, 0.0, ...</td>\n",
       "      <td>[0.057471264, 0.028735632, 0.0, 0.9856322, 1.0...</td>\n",
       "      <td>[0.0, 0.0, 0.0, 1.0, 1.0, 1.0]</td>\n",
       "      <td>[0.0, 0.055555556, 0.11111111, 0.8888889, 1.0,...</td>\n",
       "      <td>[0.0, 0.07692308, 0.15384616, 0.84615386, 1.0,...</td>\n",
       "      <td>[1.0, 1.0, 1.0, 0.0, 0.04761905, 0.04761905]</td>\n",
       "      <td>[0.06896552, 0.03448276, 0.0, 1.0, 0.98275864,...</td>\n",
       "      <td>[0.051282052, 0.025641026, 0.0, 1.0, 0.9871794...</td>\n",
       "      <td>11932235</td>\n",
       "    </tr>\n",
       "  </tbody>\n",
       "</table>\n",
       "</div>"
      ],
      "text/plain": [
       "                                                   I  \\\n",
       "0        [1.0, 0.7788945, 0.55778897, 0.0, 0.0, 0.0]   \n",
       "2        [0.87096775, 0.9354839, 1.0, 0.0, 0.0, 0.0]   \n",
       "4  [0.55172414, 0.77011496, 1.0, 0.057471264, 0.0...   \n",
       "6         [0.0, 0.0, 0.0, 1.0, 0.7916667, 0.7916667]   \n",
       "8                    [1.0, 1.0, 1.0, 0.05, 0.0, 0.0]   \n",
       "\n",
       "                                                  II  \\\n",
       "0    [0.1875, 0.104166664, 0.0, 0.9166667, 1.0, 1.0]   \n",
       "2        [1.0, 0.9766355, 0.95327103, 0.0, 0.0, 0.0]   \n",
       "4  [0.0, 0.1724138, 0.3448276, 1.0, 0.82758623, 0...   \n",
       "6  [0.32876712, 0.6712329, 1.0, 0.0, 0.0, 0.06849...   \n",
       "8       [0.08064516, 0.04032258, 0.0, 1.0, 1.0, 1.0]   \n",
       "\n",
       "                                                 III  \\\n",
       "0  [0.0, 0.1632653, 0.3265306, 0.97959185, 1.0, 1.0]   \n",
       "2        [1.0, 0.93939394, 0.8787879, 0.0, 0.0, 0.0]   \n",
       "4                 [0.16, 0.08, 0.0, 1.0, 0.96, 0.96]   \n",
       "6                   [0.5, 0.75, 1.0, 0.0, 0.05, 0.1]   \n",
       "8  [0.04347826, 0.02173913, 0.0, 0.9782609, 1.0, ...   \n",
       "\n",
       "                                                 AvR  \\\n",
       "0  [0.0, 0.2804878, 0.58536583, 1.0, 0.9634146, 0...   \n",
       "2                     [0.0, 0.0, 0.0, 1.0, 1.0, 1.0]   \n",
       "4              [1.0, 0.5, 0.0, 0.73333335, 1.0, 1.0]   \n",
       "6  [0.9230769, 0.46153846, 0.0, 0.9230769, 1.0, 0...   \n",
       "8  [0.6666667, 0.8333333, 1.0, 0.0, 0.16666667, 0...   \n",
       "\n",
       "                                                 AvL  \\\n",
       "0  [1.0, 0.8082192, 0.6210046, 0.01369863, 0.0, 0.0]   \n",
       "2       [0.0, 0.13207547, 0.28301886, 1.0, 1.0, 1.0]   \n",
       "4         [0.7128713, 0.8613861, 1.0, 0.0, 0.0, 0.0]   \n",
       "6  [0.39344263, 0.19672132, 0.0, 1.0, 0.91803277,...   \n",
       "8  [0.9691358, 0.9845679, 1.0, 0.030864198, 0.0, ...   \n",
       "\n",
       "                                                 AvF  \\\n",
       "0  [0.0, 0.123188406, 0.24637681, 0.9637681, 1.0,...   \n",
       "2        [1.0, 0.96256685, 0.9197861, 0.0, 0.0, 0.0]   \n",
       "4         [0.0, 0.0, 0.0, 1.0, 0.9113924, 0.9113924]   \n",
       "6  [0.43023255, 0.7093023, 1.0, 0.0, 0.034883723,...   \n",
       "8  [0.057471264, 0.028735632, 0.0, 0.9856322, 1.0...   \n",
       "\n",
       "                                            V1  \\\n",
       "0        [0.0, 0.5, 1.0, 0.97619045, 1.0, 1.0]   \n",
       "2  [0.2777778, 0.11111111, 0.0, 1.0, 1.0, 1.0]   \n",
       "4               [0.0, 0.0, 0.0, 0.9, 1.0, 1.0]   \n",
       "6          [0.875, 0.9375, 1.0, 0.0, 0.0, 0.0]   \n",
       "8               [0.0, 0.0, 0.0, 1.0, 1.0, 1.0]   \n",
       "\n",
       "                                                  V2  \\\n",
       "0                    [0.0, 0.5, 1.0, 0.75, 1.0, 1.0]   \n",
       "2  [0.11764706, 0.0, 0.0, 1.0, 0.9411765, 0.9411765]   \n",
       "4                     [0.0, 0.0, 0.0, 1.0, 1.0, 1.0]   \n",
       "6  [0.071428575, 0.035714287, 0.0, 1.0, 0.9642857...   \n",
       "8  [0.0, 0.055555556, 0.11111111, 0.8888889, 1.0,...   \n",
       "\n",
       "                                                  V3  \\\n",
       "0  [0.05263158, 0.02631579, 0.0, 1.0, 0.94736844,...   \n",
       "2   [-19.52, -19.52, -19.52, -19.52, -19.52, -19.52]   \n",
       "4               [0.0, 0.0, 0.0, 0.6666667, 1.0, 1.0]   \n",
       "6       [0.15384616, 0.07692308, 0.0, 1.0, 1.0, 1.0]   \n",
       "8  [0.0, 0.07692308, 0.15384616, 0.84615386, 1.0,...   \n",
       "\n",
       "                                                  V4  \\\n",
       "0  [0.0, 0.16666667, 0.33333334, 0.93333334, 1.0,...   \n",
       "2              [1.0, 1.0, 0.95238096, 0.0, 0.0, 0.0]   \n",
       "4  [0.9298246, 0.9649123, 1.0, 0.0, 0.01754386, 0...   \n",
       "6                  [1.0, 0.95, 0.9, 0.0, 0.05, 0.05]   \n",
       "8       [1.0, 1.0, 1.0, 0.0, 0.04761905, 0.04761905]   \n",
       "\n",
       "                                                  V5  \\\n",
       "0                     [0.0, 0.0, 0.0, 1.0, 0.8, 0.8]   \n",
       "2                   [0.5, 1.0, 1.0, 0.0, 0.25, 0.25]   \n",
       "4                     [0.4, 0.2, 0.0, 1.0, 1.0, 1.0]   \n",
       "6  [0.22222222, 0.11111111, 0.0, 1.0, 0.8888889, ...   \n",
       "8  [0.06896552, 0.03448276, 0.0, 1.0, 0.98275864,...   \n",
       "\n",
       "                                                  V6       MRN  \n",
       "0  [0.0, 0.03448276, 0.06896552, 1.0, 0.9655172, ...  24264922  \n",
       "2              [1.0, 1.0, 1.0, 0.06666667, 0.0, 0.0]  25719094  \n",
       "4       [0.03448276, 0.03448276, 0.0, 1.0, 1.0, 1.0]  97580870  \n",
       "6       [0.0, 0.09090909, 0.18181819, 1.0, 1.0, 1.0]  77281657  \n",
       "8  [0.051282052, 0.025641026, 0.0, 1.0, 0.9871794...  11932235  "
      ]
     },
     "execution_count": 10,
     "metadata": {},
     "output_type": "execute_result"
    }
   ],
   "source": [
    "df_ecg.head()\n",
    "\n"
   ]
  },
  {
   "cell_type": "code",
   "execution_count": 11,
   "metadata": {},
   "outputs": [],
   "source": [
    "# get previous ecg data to get target columns and split into train, val and test\n",
    "x_train_ecg = pd.read_csv('./processed-datasets/x_train_ecg.csv')\n",
    "x_val_ecg = pd.read_csv('./processed-datasets/x_val_ecg.csv')\n",
    "x_test_ecg = pd.read_csv('./processed-datasets/x_test_ecg.csv')"
   ]
  },
  {
   "cell_type": "code",
   "execution_count": 12,
   "metadata": {},
   "outputs": [],
   "source": [
    "# renaming MRN column\n",
    "x_train_ecg.rename(columns={'MRN_DEID': 'MRN'}, inplace=True)\n",
    "x_val_ecg.rename(columns={'MRN_DEID': 'MRN'}, inplace=True)\n",
    "x_test_ecg.rename(columns={'MRN_DEID': 'MRN'}, inplace=True)\n"
   ]
  },
  {
   "cell_type": "code",
   "execution_count": 13,
   "metadata": {},
   "outputs": [],
   "source": [
    "# Merging the training set\n",
    "df_ecg_train = pd.merge(df_ecg, x_train_ecg[['MRN', 'CardiacFuture']], on='MRN', how='inner')\n",
    "\n",
    "# Merging the validation set\n",
    "df_ecg_val = pd.merge(df_ecg, x_val_ecg[['MRN', 'CardiacFuture']], on='MRN', how='inner')\n",
    "\n",
    "# Merging the test set\n",
    "df_ecg_test = pd.merge(df_ecg, x_test_ecg[['MRN', 'CardiacFuture']], on='MRN', how='inner')\n"
   ]
  },
  {
   "cell_type": "code",
   "execution_count": 14,
   "metadata": {},
   "outputs": [],
   "source": [
    "# renaming CardiacFuture column to y\n",
    "df_ecg_train.rename(columns={'CardiacFuture': 'y'}, inplace=True)\n",
    "df_ecg_val.rename(columns={'CardiacFuture': 'y'}, inplace=True)\n",
    "df_ecg_test.rename(columns={'CardiacFuture': 'y'}, inplace=True)"
   ]
  },
  {
   "cell_type": "markdown",
   "metadata": {},
   "source": [
    "### some patients removed in df_ecg train, val, test, make sure the patients are same in tabular train, val, test later when doing joint fusion model"
   ]
  },
  {
   "cell_type": "markdown",
   "metadata": {},
   "source": [
    "## saving datasets in processed-datasets folder to be load in another notebook"
   ]
  },
  {
   "cell_type": "code",
   "execution_count": 15,
   "metadata": {},
   "outputs": [],
   "source": [
    "df_ecg_train.to_pickle(\"./processed-datasets/df_ecg_train.pkl\")\n",
    "df_ecg_val.to_pickle(\"./processed-datasets/df_ecg_val.pkl\")\n",
    "df_ecg_test.to_pickle(\"./processed-datasets/df_ecg_test.pkl\")\n"
   ]
  },
  {
   "cell_type": "code",
   "execution_count": null,
   "metadata": {},
   "outputs": [],
   "source": []
  },
  {
   "cell_type": "code",
   "execution_count": null,
   "metadata": {},
   "outputs": [],
   "source": []
  },
  {
   "cell_type": "code",
   "execution_count": null,
   "metadata": {},
   "outputs": [],
   "source": []
  }
 ],
 "metadata": {
  "kernelspec": {
   "display_name": "torch",
   "language": "python",
   "name": "python3"
  },
  "language_info": {
   "codemirror_mode": {
    "name": "ipython",
    "version": 3
   },
   "file_extension": ".py",
   "mimetype": "text/x-python",
   "name": "python",
   "nbconvert_exporter": "python",
   "pygments_lexer": "ipython3",
   "version": "3.8.10"
  }
 },
 "nbformat": 4,
 "nbformat_minor": 2
}
